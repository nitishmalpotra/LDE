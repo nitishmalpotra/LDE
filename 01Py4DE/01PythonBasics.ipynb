{
 "cells": [
  {
   "cell_type": "markdown",
   "metadata": {},
   "source": [
    "---\n",
    "## Python Basics\n",
    "\n",
    "#### Strings\n",
    "\n",
    "- Variable Assignment\n",
    "- Indexing and Slicing\n",
    "- Concatenations and Repetitions\n",
    "- String Methods\n",
    "---"
   ]
  },
  {
   "cell_type": "code",
   "execution_count": 149,
   "metadata": {},
   "outputs": [
    {
     "name": "stdout",
     "output_type": "stream",
     "text": [
      "learning python!\n"
     ]
    }
   ],
   "source": [
    "# print \"learning python!\"\n",
    "print('learning python!')"
   ]
  },
  {
   "cell_type": "markdown",
   "metadata": {},
   "source": [
    "---\n",
    "Python stores srings in a sequential manner.\n",
    "\"HELLO\"\n",
    "\n",
    "Index of in python starts from 0\n",
    "\n",
    "| H | E | L | L | O |\n",
    "|---|---|---|---|---|\n",
    "| 0 | 1 | 2 | 3 | 4 |\n",
    "| -5 | -4 | -3 | -2 | -1 |\n",
    "---"
   ]
  },
  {
   "cell_type": "code",
   "execution_count": 150,
   "metadata": {},
   "outputs": [
    {
     "name": "stdout",
     "output_type": "stream",
     "text": [
      "Hello World!\n",
      "H\n",
      "l\n",
      "!\n",
      "l\n"
     ]
    }
   ],
   "source": [
    "# create a string variable\n",
    "a = \"Hello World!\"\n",
    "\n",
    "# print a\n",
    "print(a)\n",
    "\n",
    "# print first character of a\n",
    "print(a[0])\n",
    "\n",
    "# print third character of a\n",
    "print(a[2])\n",
    "\n",
    "# print last character of a\n",
    "print(a[-1])\n",
    "\n",
    "# print third last character of a\n",
    "print(a[-3])"
   ]
  },
  {
   "cell_type": "code",
   "execution_count": 151,
   "metadata": {},
   "outputs": [
    {
     "name": "stdout",
     "output_type": "stream",
     "text": [
      "HelloWorld\n",
      "\n",
      "Hello World\n",
      "\n",
      "Hello World\n"
     ]
    }
   ],
   "source": [
    "# concatination (add)\n",
    "a = 'Hello'\n",
    "b = 'World'\n",
    "\n",
    "# add\n",
    "print(a + b) # notice no space in the output\n",
    "# another print\n",
    "print(\"\\n\" + a, b) # there is space\n",
    "# another add print\n",
    "print(\"\\n\" + a + \" \" + b) # and space again"
   ]
  },
  {
   "cell_type": "code",
   "execution_count": 152,
   "metadata": {},
   "outputs": [
    {
     "name": "stdout",
     "output_type": "stream",
     "text": [
      "learning_DE_learning_DE_learning_DE_learning_DE_learning_DE_\n",
      "\n",
      "hello DE people hello DE people hello DE people hello DE people hello DE people \n"
     ]
    }
   ],
   "source": [
    "# multiplication (repeat)\n",
    "c = 'learning_DE_'\n",
    "\n",
    "# multiply\n",
    "print(c * 5)\n",
    "# another pultiply\n",
    "print(\"\\n\" + \"hello DE people \" * 5)"
   ]
  },
  {
   "cell_type": "code",
   "execution_count": 153,
   "metadata": {},
   "outputs": [
    {
     "name": "stdout",
     "output_type": "stream",
     "text": [
      "l\n",
      "g\n",
      "n\n",
      "x\n",
      "learn\n",
      "tring\n",
      "learnin\n",
      "tring slicing and indexing\n",
      "ing an\n",
      "and\n",
      "and\n"
     ]
    }
   ],
   "source": [
    "# string slicing and indexing\n",
    "\n",
    "# Index of in python starts from 0\n",
    "# H -- 0 -- (-1)\n",
    "# E -- 1 -- (-2)\n",
    "# L -- 2 -- (-3)\n",
    "# L -- 3 -- (-4)\n",
    "# O -- 4 -- (-5)\n",
    "\n",
    "d = \"learning string slicing and indexing\"\n",
    "print(d[0]) # prints first character\n",
    "print(d[-1]) # prints last character\n",
    "print(d[4]) # prints fifth character\n",
    "print(d[-4]) # prints fourth character from last\n",
    "print(d[0:5]) # prints first 5 characters; 0,1,2,3,4 index\n",
    "print(d[10:15]) # prints 11th to 15th character, index 10 is inclusive and 15 is excluded\n",
    "print(d[:7]) # prints everything up 6th character, again index 7 is excluded\n",
    "print(d[10:]) # prints everything from index 10 to end of the string\n",
    "print(d[-16:-10]) # prints characters between -16 and -10 (excluded) index\n",
    "# print and in 2 ways\n",
    "print(d[-12:-9])\n",
    "print(d[24:27])"
   ]
  },
  {
   "cell_type": "markdown",
   "metadata": {},
   "source": [
    "---\n",
    "**Python Methods**\n",
    "- Objects in Python have in-built methods. There methods are like functions specific to the object and can be called on the object itself.\n",
    "- Methods are called on objects using a period (.) and then the method name.\n",
    "- e.g., _object.method(parameter)_\n",
    "---\n",
    "Python string methods: https://www.w3schools.com/python/python_ref_string.asp"
   ]
  },
  {
   "cell_type": "code",
   "execution_count": 154,
   "metadata": {},
   "outputs": [
    {
     "name": "stdout",
     "output_type": "stream",
     "text": [
      "still learning de\n",
      "STILL LEARNING DE\n",
      "<class 'str'>\n"
     ]
    }
   ],
   "source": [
    "# string methods\n",
    "e = \"Still Learning DE\"\n",
    "\n",
    "# convert to lower case\n",
    "print(e.lower())\n",
    "# convert to upper\n",
    "print(e.upper())\n",
    "# use type() function on object e\n",
    "print(type(e))"
   ]
  },
  {
   "cell_type": "code",
   "execution_count": 155,
   "metadata": {},
   "outputs": [
    {
     "name": "stdout",
     "output_type": "stream",
     "text": [
      "this object should come first and this one should come 2nd.\n",
      "\n",
      "this object should be 2nd and this this should be first.\n",
      "\n",
      "this is first object and this one is 2nd.\n"
     ]
    }
   ],
   "source": [
    "# string formatting\n",
    "f = \"first\"\n",
    "g = 2\n",
    "\n",
    "# one way to format\n",
    "print(\"this object should come %s and this one should come %snd.\" %(f,g))\n",
    "# another way \n",
    "print(\"\\nthis object should be {}nd and this this should be {}.\".format(g, f))\n",
    "# another method (most used)\n",
    "print(f\"\\nthis is {f} object and this one is {g}nd.\")"
   ]
  },
  {
   "cell_type": "markdown",
   "metadata": {},
   "source": [
    "---\n",
    "#### Numbers\n",
    "\n",
    "- Numbers types (integers and floating points)\n",
    "    - **int** (whole numbers): 1, 2, -1, 100, -500\n",
    "    - **float** (decimals, exponentials): 0.5, 0.112, 4E2, -5.55\n",
    "- Arithmetic Operations\n",
    "\n",
    "\n",
    "**Variables in Python**\n",
    "- Variable names cannot start with a number\n",
    "    - a_1 --> VALID\n",
    "    - _a1 --> VALID (but not recommended)\n",
    "    - 1_a --> INVALID\n",
    "- Variable name can only consist of alphabets, numbers, and \"_\" (no spaces, no special characters)\n",
    "---"
   ]
  },
  {
   "cell_type": "code",
   "execution_count": 156,
   "metadata": {},
   "outputs": [
    {
     "name": "stdout",
     "output_type": "stream",
     "text": [
      "4\n",
      "0\n",
      "4\n",
      "1.0\n",
      "1024\n",
      "1\n",
      "2\n",
      "3\n",
      "7.0\n",
      "10.0\n"
     ]
    }
   ],
   "source": [
    "# basic arithmetic\n",
    "print(2 + 2) # addition\n",
    "print(2 - 2) # subtraction\n",
    "print(2 * 2) # multiplication\n",
    "print(2 / 2) # division (always returns a float)\n",
    "print(2 ** 10) # exponent, 2 to the poer 10\n",
    "print(2 // 2) # floor division, returns the result rounded down to the nearest integer\n",
    "print(5 // 2) # returns 2\n",
    "print(15 // 4) # returns 3\n",
    "# use brackets to define order of calculation\n",
    "print(2 + 2 * 5 / 2) # follows BODMAS or PEMDAS\n",
    "print((2 + 2) * (5 / 2)) # order of operation controlled by parentheses"
   ]
  },
  {
   "cell_type": "code",
   "execution_count": 157,
   "metadata": {},
   "outputs": [
    {
     "name": "stdout",
     "output_type": "stream",
     "text": [
      "22\n",
      "24\n",
      "12.0\n"
     ]
    }
   ],
   "source": [
    "h = 10\n",
    "i = 12\n",
    "print(h + i)\n",
    "\n",
    "h = 12 # variable reassignment \n",
    "print(h + i) # output changes\n",
    "\n",
    "# calculating mean of h and i\n",
    "mean = (h + i) / 2\n",
    "print(mean)"
   ]
  },
  {
   "cell_type": "markdown",
   "metadata": {},
   "source": [
    "---\n",
    "#### Python Data Types\n",
    "\n",
    "| Name | Type | Description |\n",
    "|---|---|---------|\n",
    "| integer | int | whole numbers, e.g., 0, 1, -100, 200 |\n",
    "| float | float | fractions or decimal numbers, e.g., 0.5, 5/6, 4E2 |\n",
    "| string | str | characters, e.g., \"hello\", \"world\" |\n",
    "| list | list | Ordered and mutable collection of objects, e.g., [ 1, 2, \"hello\" ] |\n",
    "| dictionary | dict | Unordered key:value pairs, e.g., { key1 : value1, key2 : value2 } |\n",
    "| tuple | tuple | Ordered and immutable collection of objects, e.g., ( 1, 2, \"hello\", [1,2] ) |\n",
    "| set | set | Unordered collection of objects, e.g., { \"a\", \"b\" } |\n",
    "| boolean | bool | logical values, e.g., 0 or 1, True or False |\n",
    "\n",
    "- All data types have their own functions (known as methods)\n",
    "- while defining a variable, python automatically identifies the data type\n",
    "---"
   ]
  },
  {
   "cell_type": "code",
   "execution_count": 158,
   "metadata": {},
   "outputs": [
    {
     "name": "stdout",
     "output_type": "stream",
     "text": [
      "<class 'int'>\n",
      "<class 'float'>\n",
      "<class 'str'>\n",
      "<class 'list'>\n",
      "<class 'dict'>\n",
      "<class 'tuple'>\n",
      "<class 'set'>\n",
      "<class 'bool'>\n"
     ]
    }
   ],
   "source": [
    "# data types\n",
    "j = 69\n",
    "k = 6.9\n",
    "l = \"Sixty Nine\"\n",
    "m = [6, 9, \"sixty nine\"]\n",
    "n = {\"six\" : 6, \"nine\" : 9}\n",
    "o = (6, 9, \"sixty nine\")\n",
    "p = {6, 9, \"sixty nine\"}\n",
    "q = True\n",
    "\n",
    "# print type() of all variables\n",
    "print(type(j)) # int\n",
    "print(type(k)) # float\n",
    "print(type(l)) # str\n",
    "print(type(m)) # list\n",
    "print(type(n)) # dict\n",
    "print(type(o)) # tuple\n",
    "print(type(p)) # set\n",
    "print(type(q)) # bool\n"
   ]
  },
  {
   "cell_type": "code",
   "execution_count": 159,
   "metadata": {},
   "outputs": [
    {
     "name": "stdout",
     "output_type": "stream",
     "text": [
      "True\n",
      "False\n",
      "False\n",
      "False\n"
     ]
    }
   ],
   "source": [
    "# bools are used in conditional statements\n",
    "print(5 == 5) # ture\n",
    "print(5 == \"5\") # false\n",
    "print(5 == \"Five\") # false\n",
    "print(\"Five\" == \"five\") # false"
   ]
  },
  {
   "cell_type": "markdown",
   "metadata": {},
   "source": [
    "---\n",
    "**Python Comparison Operators**\n",
    "\n",
    "| Operator | Description | Example |\n",
    "|---|---|---------|\n",
    "| < | less than | 5 < 2 ; False |\n",
    "| > | greater than | 5 > 2 ; True |\n",
    "| <= | less than equal to | 5 <= 2 ; False |\n",
    "| >= | greater than equal to | 5 >= 2 ; True |\n",
    "| == | equal to | 5 == 2 ; False |\n",
    "| != | not equal to | 5 != 2 ; True |\n",
    "\n",
    "\n",
    "#### Lists\n",
    "- Creating a list\n",
    "- indexing and slicing a list (follows similar concepts as slicing and indexing strings)\n",
    "    - _list_object[start_index : end_index : step]_\n",
    "- list methods\n",
    "- nested lists\n",
    "- list comprehension\n",
    "---"
   ]
  },
  {
   "cell_type": "code",
   "execution_count": 160,
   "metadata": {},
   "outputs": [
    {
     "name": "stdout",
     "output_type": "stream",
     "text": [
      "[1, 2, 3, 'four', 'four', 6]\n",
      "<class 'list'>\n",
      "\n",
      "\n",
      "1\n",
      "[1, 2, 3]\n",
      "[3, 'four', 'four', 6]\n",
      "[1, 3, 'four']\n",
      "[6, 'four', 'four', 3, 2, 1]\n"
     ]
    }
   ],
   "source": [
    "# define a list\n",
    "# ordered collection of objects. Objects can be repeated and of any data type\n",
    "r = [1, 2, 3, 'four', 'four', 6]\n",
    "print(r)\n",
    "print(type(r))\n",
    "\n",
    "print(\"\\n\")\n",
    "# slicing and indexing\n",
    "print(r[0]) # returns first element \"1\", similar concepts as slicing and indexing strings. Index starts from 0\n",
    "print(r[:3]) # returns first 3 elements\n",
    "print(r[-4:]) # returns last 4 elements\n",
    "# print(r[6]) # give an \"OUT OF RANGE\" error as there are only 6 elements in the list and we are trying to return 7th\n",
    "print(r[::2]) # prints every alternate element (step size of 2)\n",
    "print(r[::-1]) # prints list in reverse (-1 step)"
   ]
  },
  {
   "cell_type": "code",
   "execution_count": 161,
   "metadata": {},
   "outputs": [
    {
     "name": "stdout",
     "output_type": "stream",
     "text": [
      "6\n",
      "[1, 2, 3, 'four', 'four', 6, 7]\n",
      "[1, 2, 3, 'four', 'four', 6, 7, [8, 9]]\n",
      "[1, 2, 3, 'four', 'four', 6, 7, [8, 9], 10, 'eleven', 12.0]\n",
      "[0, 1, 2, 3, 4]\n",
      "[1, 2, 3, 'inserted 3', 'four', 'four', 6, 7, [8, 9], 10, 'eleven', 12.0]\n"
     ]
    }
   ],
   "source": [
    "s = [1, 2, 3, 'four', 'four', 6]\n",
    "# methods and functions\n",
    "print(len(s)) # returns a count of elements in the list (or length of the list)\n",
    "\n",
    "# append method, add element at the end of list\n",
    "s.append(7)\n",
    "print(s) # \"7\" added as last element in the list\n",
    "s.append([8, 9]) # \"[8,9]\" added as one element in the end. A list withing a list\n",
    "print(s)\n",
    "\n",
    "# extend method, add element(s) at the end of list\n",
    "s.extend([10, \"eleven\", 12.0]) # unlike append, extend adds multiple elements at the end of the list\n",
    "print(s)\n",
    "\n",
    "# range function creates a list \n",
    "print(list(range(5))) # a list of int from 0 to 4, 5 elements in total\n",
    "\n",
    "# insert method, add element anywhere in the list\n",
    "s.insert(3, \"inserted 3\") # \"inserted 3\" added to the list at index 3 and everything to the right moved by 1 index\n",
    "print(s)\n"
   ]
  },
  {
   "cell_type": "markdown",
   "metadata": {},
   "source": [
    "---\n",
    "#### Constructs\n",
    "\n",
    "- Loops\n",
    "    - if, elif, else\n",
    "    - for, while\n",
    "- Comprehensions\n",
    "- Exception Handling\n",
    "- Modules and Packages\n",
    "- I/O operations (files)\n",
    "---"
   ]
  },
  {
   "cell_type": "code",
   "execution_count": null,
   "metadata": {},
   "outputs": [],
   "source": []
  },
  {
   "cell_type": "code",
   "execution_count": null,
   "metadata": {},
   "outputs": [],
   "source": []
  },
  {
   "cell_type": "code",
   "execution_count": null,
   "metadata": {},
   "outputs": [],
   "source": []
  },
  {
   "cell_type": "code",
   "execution_count": null,
   "metadata": {},
   "outputs": [],
   "source": []
  }
 ],
 "metadata": {
  "kernelspec": {
   "display_name": "Python 3",
   "language": "python",
   "name": "python3"
  },
  "language_info": {
   "codemirror_mode": {
    "name": "ipython",
    "version": 3
   },
   "file_extension": ".py",
   "mimetype": "text/x-python",
   "name": "python",
   "nbconvert_exporter": "python",
   "pygments_lexer": "ipython3",
   "version": "3.11.9"
  }
 },
 "nbformat": 4,
 "nbformat_minor": 2
}
