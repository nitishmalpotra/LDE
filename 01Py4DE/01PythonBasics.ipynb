{
 "cells": [
  {
   "cell_type": "markdown",
   "metadata": {},
   "source": [
    "---\n",
    "## Python Basics\n",
    "\n",
    "#### Strings\n",
    "\n",
    "- Variable Assignment\n",
    "- Indexing and Slicing\n",
    "- Concatenations and Repetitions\n",
    "- String Methods\n",
    "---"
   ]
  },
  {
   "cell_type": "code",
   "execution_count": 109,
   "metadata": {},
   "outputs": [
    {
     "name": "stdout",
     "output_type": "stream",
     "text": [
      "learning python!\n"
     ]
    }
   ],
   "source": [
    "# print \"learning python!\"\n",
    "print('learning python!')"
   ]
  },
  {
   "cell_type": "markdown",
   "metadata": {},
   "source": [
    "---\n",
    "Python stores srings in a sequential manner.\n",
    "\"HELLO\"\n",
    "\n",
    "Index of in python starts from 0\n",
    "\n",
    "| H | E | L | L | O |\n",
    "|---|---|---|---|---|\n",
    "| 0 | 1 | 2 | 3 | 4 |\n",
    "| -5 | -4 | -3 | -2 | -1 |\n",
    "---"
   ]
  },
  {
   "cell_type": "code",
   "execution_count": 110,
   "metadata": {},
   "outputs": [
    {
     "name": "stdout",
     "output_type": "stream",
     "text": [
      "Hello World!\n",
      "H\n",
      "l\n",
      "!\n",
      "l\n"
     ]
    }
   ],
   "source": [
    "# create a string variable\n",
    "a = \"Hello World!\"\n",
    "\n",
    "# print a\n",
    "print(a)\n",
    "\n",
    "# print first character of a\n",
    "print(a[0])\n",
    "\n",
    "# print third character of a\n",
    "print(a[2])\n",
    "\n",
    "# print last character of a\n",
    "print(a[-1])\n",
    "\n",
    "# print third last character of a\n",
    "print(a[-3])"
   ]
  },
  {
   "cell_type": "code",
   "execution_count": 111,
   "metadata": {},
   "outputs": [
    {
     "name": "stdout",
     "output_type": "stream",
     "text": [
      "HelloWorld\n",
      "\n",
      "Hello World\n",
      "\n",
      "Hello World\n"
     ]
    }
   ],
   "source": [
    "# concatination (add)\n",
    "a = 'Hello'\n",
    "b = 'World'\n",
    "\n",
    "# add\n",
    "print(a + b) # notice no space in the output\n",
    "# another print\n",
    "print(\"\\n\" + a, b) # there is space\n",
    "# another add print\n",
    "print(\"\\n\" + a + \" \" + b) # and space again"
   ]
  },
  {
   "cell_type": "code",
   "execution_count": 112,
   "metadata": {},
   "outputs": [
    {
     "name": "stdout",
     "output_type": "stream",
     "text": [
      "learning_DE_learning_DE_learning_DE_learning_DE_learning_DE_\n",
      "\n",
      "hello DE people hello DE people hello DE people hello DE people hello DE people \n"
     ]
    }
   ],
   "source": [
    "# multiplication (repeat)\n",
    "c = 'learning_DE_'\n",
    "\n",
    "# multiply\n",
    "print(c * 5)\n",
    "# another pultiply\n",
    "print(\"\\n\" + \"hello DE people \" * 5)"
   ]
  },
  {
   "cell_type": "code",
   "execution_count": 113,
   "metadata": {},
   "outputs": [
    {
     "name": "stdout",
     "output_type": "stream",
     "text": [
      "l\n",
      "g\n",
      "n\n",
      "x\n",
      "learn\n",
      "tring\n",
      "learnin\n",
      "tring slicing and indexing\n",
      "ing an\n",
      "and\n",
      "and\n"
     ]
    }
   ],
   "source": [
    "# string slicing and indexing\n",
    "\n",
    "# Index of in python starts from 0\n",
    "# H -- 0 -- (-1)\n",
    "# E -- 1 -- (-2)\n",
    "# L -- 2 -- (-3)\n",
    "# L -- 3 -- (-4)\n",
    "# O -- 4 -- (-5)\n",
    "\n",
    "d = \"learning string slicing and indexing\"\n",
    "print(d[0]) # prints first character\n",
    "print(d[-1]) # prints last character\n",
    "print(d[4]) # prints fifth character\n",
    "print(d[-4]) # prints fourth character from last\n",
    "print(d[0:5]) # prints first 5 characters; 0,1,2,3,4 index\n",
    "print(d[10:15]) # prints 11th to 15th character, index 10 is inclusive and 15 is excluded\n",
    "print(d[:7]) # prints everything up 6th character, again index 7 is excluded\n",
    "print(d[10:]) # prints everything from index 10 to end of the string\n",
    "print(d[-16:-10]) # prints characters between -16 and -10 (excluded) index\n",
    "# print and in 2 ways\n",
    "print(d[-12:-9])\n",
    "print(d[24:27])"
   ]
  },
  {
   "cell_type": "markdown",
   "metadata": {},
   "source": [
    "---\n",
    "**Python Methods**\n",
    "- Objects in Python have in-built methods. There methods are like functions specific to the object and can be called on the object itself.\n",
    "- Methods are called on objects using a period (.) and then the method name.\n",
    "- e.g., _object.method(parameter)_\n",
    "---\n",
    "Python string methods: https://www.w3schools.com/python/python_ref_string.asp"
   ]
  },
  {
   "cell_type": "code",
   "execution_count": 114,
   "metadata": {},
   "outputs": [
    {
     "name": "stdout",
     "output_type": "stream",
     "text": [
      "still learning de\n",
      "STILL LEARNING DE\n",
      "<class 'str'>\n"
     ]
    }
   ],
   "source": [
    "# string methods\n",
    "e = \"Still Learning DE\"\n",
    "\n",
    "# convert to lower case\n",
    "print(e.lower())\n",
    "# convert to upper\n",
    "print(e.upper())\n",
    "# use type() function on object e\n",
    "print(type(e))"
   ]
  },
  {
   "cell_type": "code",
   "execution_count": 115,
   "metadata": {},
   "outputs": [
    {
     "name": "stdout",
     "output_type": "stream",
     "text": [
      "this object should come first and this one should come 2nd.\n",
      "\n",
      "this object should be 2nd and this this should be first.\n",
      "\n",
      "this is first object and this one is 2nd.\n"
     ]
    }
   ],
   "source": [
    "# string formatting\n",
    "f = \"first\"\n",
    "g = 2\n",
    "\n",
    "# one way to format\n",
    "print(\"this object should come %s and this one should come %snd.\" %(f,g))\n",
    "# another way \n",
    "print(\"\\nthis object should be {}nd and this this should be {}.\".format(g, f))\n",
    "# another method (most used)\n",
    "print(f\"\\nthis is {f} object and this one is {g}nd.\")"
   ]
  },
  {
   "cell_type": "markdown",
   "metadata": {},
   "source": [
    "---\n",
    "#### Numbers\n",
    "\n",
    "- Numbers types (integers and floating points)\n",
    "    - **int** (whole numbers): 1, 2, -1, 100, -500\n",
    "    - **float** (decimals, exponentials): 0.5, 0.112, 4E2, -5.55\n",
    "- Arithmetic Operations\n",
    "\n",
    "\n",
    "**Variables in Python**\n",
    "- Variable names cannot start with a number\n",
    "    - a_1 --> VALID\n",
    "    - _a1 --> VALID (but not recommended)\n",
    "    - 1_a --> INVALID\n",
    "- Variable name can only consist of alphabets, numbers, and \"_\" (no spaces, no special characters)\n",
    "---"
   ]
  },
  {
   "cell_type": "code",
   "execution_count": 116,
   "metadata": {},
   "outputs": [
    {
     "name": "stdout",
     "output_type": "stream",
     "text": [
      "4\n",
      "0\n",
      "4\n",
      "1.0\n",
      "1024\n",
      "1\n",
      "2\n",
      "3\n",
      "1\n",
      "7.0\n",
      "10.0\n"
     ]
    }
   ],
   "source": [
    "# basic arithmetic\n",
    "print(2 + 2) # addition\n",
    "print(2 - 2) # subtraction\n",
    "print(2 * 2) # multiplication\n",
    "print(2 / 2) # division (always returns a float)\n",
    "print(2 ** 10) # exponent, 2 to the poer 10\n",
    "print(2 // 2) # floor division, returns the result rounded down to the nearest integer\n",
    "print(5 // 2) # returns 2\n",
    "print(15 // 4) # returns 3\n",
    "print(7 % 3) # Modulud operator, returns the remainder of the division\n",
    "# use brackets to define order of calculation\n",
    "print(2 + 2 * 5 / 2) # follows BODMAS or PEMDAS\n",
    "print((2 + 2) * (5 / 2)) # order of operation controlled by parentheses"
   ]
  },
  {
   "cell_type": "code",
   "execution_count": 117,
   "metadata": {},
   "outputs": [
    {
     "name": "stdout",
     "output_type": "stream",
     "text": [
      "22\n",
      "24\n",
      "12.0\n"
     ]
    }
   ],
   "source": [
    "h = 10\n",
    "i = 12\n",
    "print(h + i)\n",
    "\n",
    "h = 12 # variable reassignment \n",
    "print(h + i) # output changes\n",
    "\n",
    "# calculating mean of h and i\n",
    "mean = (h + i) / 2\n",
    "print(mean)"
   ]
  },
  {
   "cell_type": "markdown",
   "metadata": {},
   "source": [
    "---\n",
    "#### Python Data Types\n",
    "\n",
    "| Name | Type | Description |\n",
    "|---|---|---------|\n",
    "| integer | int | whole numbers, e.g., 0, 1, -100, 200 |\n",
    "| float | float | fractions or decimal numbers, e.g., 0.5, 5/6, 4E2 |\n",
    "| string | str | characters, e.g., \"hello\", \"world\" |\n",
    "| list | list | Ordered and mutable collection of objects, e.g., [ 1, 2, \"hello\" ] |\n",
    "| dictionary | dict | Unordered key:value pairs, e.g., { key1 : value1, key2 : value2 } |\n",
    "| tuple | tuple | Ordered and immutable collection of objects, e.g., ( 1, 2, \"hello\", [1,2] ) |\n",
    "| set | set | Unordered collection of objects, e.g., { \"a\", \"b\" } |\n",
    "| boolean | bool | logical values, e.g., 0 or 1, True or False |\n",
    "\n",
    "- All data types have their own functions (known as methods)\n",
    "- while defining a variable, python automatically identifies the data type\n",
    "---"
   ]
  },
  {
   "cell_type": "code",
   "execution_count": 118,
   "metadata": {},
   "outputs": [
    {
     "name": "stdout",
     "output_type": "stream",
     "text": [
      "<class 'int'>\n",
      "<class 'float'>\n",
      "<class 'str'>\n",
      "<class 'list'>\n",
      "<class 'dict'>\n",
      "<class 'tuple'>\n",
      "<class 'set'>\n",
      "<class 'bool'>\n"
     ]
    }
   ],
   "source": [
    "# data types\n",
    "j = 69\n",
    "k = 6.9\n",
    "l = \"Sixty Nine\"\n",
    "m = [6, 9, \"sixty nine\"]\n",
    "n = {\"six\" : 6, \"nine\" : 9}\n",
    "o = (6, 9, \"sixty nine\")\n",
    "p = {6, 9, \"sixty nine\"}\n",
    "q = True\n",
    "\n",
    "# print type() of all variables\n",
    "print(type(j)) # int\n",
    "print(type(k)) # float\n",
    "print(type(l)) # str\n",
    "print(type(m)) # list\n",
    "print(type(n)) # dict\n",
    "print(type(o)) # tuple\n",
    "print(type(p)) # set\n",
    "print(type(q)) # bool\n"
   ]
  },
  {
   "cell_type": "code",
   "execution_count": 119,
   "metadata": {},
   "outputs": [
    {
     "name": "stdout",
     "output_type": "stream",
     "text": [
      "True\n",
      "False\n",
      "False\n",
      "False\n"
     ]
    }
   ],
   "source": [
    "# bools are used in conditional statements\n",
    "print(5 == 5) # ture\n",
    "print(5 == \"5\") # false\n",
    "print(5 == \"Five\") # false\n",
    "print(\"Five\" == \"five\") # false"
   ]
  },
  {
   "cell_type": "markdown",
   "metadata": {},
   "source": [
    "---\n",
    "**Python Comparison Operators**\n",
    "\n",
    "| Operator | Description | Example |\n",
    "|---|---|---------|\n",
    "| < | less than | 5 < 2 ; False |\n",
    "| > | greater than | 5 > 2 ; True |\n",
    "| <= | less than equal to | 5 <= 2 ; False |\n",
    "| >= | greater than equal to | 5 >= 2 ; True |\n",
    "| == | equal to | 5 == 2 ; False |\n",
    "| != | not equal to | 5 != 2 ; True |\n",
    "\n",
    "---\n",
    "#### Lists\n",
    "- Creating a list\n",
    "- indexing and slicing a list (follows similar concepts as slicing and indexing strings)\n",
    "    - _list_object[start_index : end_index : step]_\n",
    "- list methods\n",
    "- nested lists\n",
    "- list comprehension\n",
    "---"
   ]
  },
  {
   "cell_type": "code",
   "execution_count": 120,
   "metadata": {},
   "outputs": [
    {
     "name": "stdout",
     "output_type": "stream",
     "text": [
      "[1, 2, 3, 'four', 'four', 6]\n",
      "<class 'list'>\n",
      "\n",
      "\n",
      "1\n",
      "[1, 2, 3]\n",
      "[3, 'four', 'four', 6]\n",
      "[1, 3, 'four']\n",
      "[6, 'four', 'four', 3, 2, 1]\n"
     ]
    }
   ],
   "source": [
    "# define a list\n",
    "# ordered collection of objects. Objects can be repeated and of any data type\n",
    "r = [1, 2, 3, 'four', 'four', 6]\n",
    "print(r)\n",
    "print(type(r))\n",
    "\n",
    "print(\"\\n\")\n",
    "# slicing and indexing\n",
    "print(r[0]) # returns first element \"1\", similar concepts as slicing and indexing strings. Index starts from 0\n",
    "print(r[:3]) # returns first 3 elements\n",
    "print(r[-4:]) # returns last 4 elements\n",
    "# print(r[6]) # give an \"OUT OF RANGE\" error as there are only 6 elements in the list and we are trying to return 7th\n",
    "print(r[::2]) # prints every alternate element (step size of 2)\n",
    "print(r[::-1]) # prints list in reverse (-1 step)"
   ]
  },
  {
   "cell_type": "code",
   "execution_count": 121,
   "metadata": {},
   "outputs": [
    {
     "name": "stdout",
     "output_type": "stream",
     "text": [
      "6\n",
      "[1, 2, 3, 'four', 'four', 6, 7]\n",
      "[1, 2, 3, 'four', 'four', 6, 7, [8, 9]]\n",
      "[1, 2, 3, 'four', 'four', 6, 7, [8, 9], 10, 'eleven', 12.0]\n",
      "[0, 1, 2, 3, 4]\n",
      "[1, 2, 3, 'inserted 3', 'four', 'four', 6, 7, [8, 9], 10, 'eleven', 12.0]\n"
     ]
    }
   ],
   "source": [
    "s = [1, 2, 3, 'four', 'four', 6]\n",
    "# methods and functions\n",
    "print(len(s)) # returns a count of elements in the list (or length of the list)\n",
    "\n",
    "# append method, add element at the end of list\n",
    "s.append(7)\n",
    "print(s) # \"7\" added as last element in the list\n",
    "s.append([8, 9]) # \"[8,9]\" added as one element in the end. A list withing a list\n",
    "print(s)\n",
    "\n",
    "# extend method, add element(s) at the end of list\n",
    "s.extend([10, \"eleven\", 12.0]) # unlike append, extend adds multiple elements at the end of the list\n",
    "print(s)\n",
    "\n",
    "# range function creates a list \n",
    "print(list(range(5))) # a list of int from 0 to 4, 5 elements in total\n",
    "\n",
    "# insert method, add element anywhere in the list\n",
    "s.insert(3, \"inserted 3\") # \"inserted 3\" added to the list at index 3 and everything to the right moved by 1 index\n",
    "print(s)\n"
   ]
  },
  {
   "cell_type": "markdown",
   "metadata": {},
   "source": [
    "---\n",
    "#### Dictionaries\n",
    "- Creating a dict (also known as hash tables in some other programming languages)\n",
    "- are key value pairs \n",
    "    - _d = {'a':1, 'b':2, 'c':3}_\n",
    "- have unique keys\n",
    "- are unordered (items are stored without any index)\n",
    "    - Values in dict are called using dict keys. d['a'] is 1, d['b'] is 2\n",
    "- are mutable (is possible to add/remove/modify values in an existing dict)\n",
    "---"
   ]
  },
  {
   "cell_type": "code",
   "execution_count": 122,
   "metadata": {},
   "outputs": [
    {
     "name": "stdout",
     "output_type": "stream",
     "text": [
      "{'key 1': 'Value 1', 'key 2': 'Value 2', 'key 3': 'Value 3', 'key 4': 'Value 4', 'key 5': 'Value 5'}\n",
      "<class 'dict'>\n"
     ]
    }
   ],
   "source": [
    "# create a dictionary\n",
    "t = {'key 1' : 'Value 1',\n",
    "     'key 2' : 'Value 2',\n",
    "     'key 3' : 'Value 3',\n",
    "     'key 4' : 'Value 4',\n",
    "     'key 5' : 'Value 5',\n",
    "     }\n",
    "print(t) # print dictionary\n",
    "print(type(t)) # print data type"
   ]
  },
  {
   "cell_type": "code",
   "execution_count": 123,
   "metadata": {},
   "outputs": [
    {
     "name": "stdout",
     "output_type": "stream",
     "text": [
      "Value 2\n",
      "{'key 1': 1, 'key 2': 'Value 2', 'key 3': 'Value 3', 'key 4': 'Value 4', 'key 5': 'Value 5'}\n",
      "{'key 1': 69, 'key 2': 'Value 2', 'key 3': 'Value 3', 'key 4': 'Value 4', 'key 5': 'Value 5'}\n",
      "{'key 1': 69, 'key 2': 'Value 2', 'key 3': 'Value 3', 'key 4': 'Value 4', 'key 5': 'Value 5', 'key 6': ['this', 'is', 6, 'value']}\n",
      "value\n"
     ]
    }
   ],
   "source": [
    "# call 'value 2'\n",
    "print(t['key 2'])\n",
    "\n",
    "# modify 'value 1' to 1\n",
    "t['key 1'] = 1\n",
    "print(t)\n",
    "\n",
    "# we can also do arithmetic operations on values\n",
    "t['key 1'] *=  69 # this is same as t['key 1'] =  t['key 1'] * 69, can be used with other arithmetic operators as well\n",
    "print(t) \n",
    "\n",
    "# add a new value\n",
    "t['key 6'] = ['this', 'is', 6, 'value']\n",
    "print(t)\n",
    "\n",
    "print(t['key 6'][-1]) # however slicing and indexing applies on dict values"
   ]
  },
  {
   "cell_type": "markdown",
   "metadata": {},
   "source": [
    "---\n",
    "#### Sets\n",
    "- Sets are unordered collection of unique elements\n",
    "    - defined using _set()_ function\n",
    "---"
   ]
  },
  {
   "cell_type": "code",
   "execution_count": 124,
   "metadata": {},
   "outputs": [
    {
     "name": "stdout",
     "output_type": "stream",
     "text": [
      "{1, 2, 3, 4, 5, 6, 7, 8, 9}\n",
      "<class 'set'>\n",
      "\n",
      "\n",
      "{1, 2, 3, 4, 5, 6, 7, 8, 9, 10}\n",
      "{1, 2, 3, 4, 5, 6, 7, 8, 9, 10}\n",
      "\n",
      "\n",
      "{1, 3, 4, 5, 6, 7, 8, 9, 10}\n"
     ]
    }
   ],
   "source": [
    "# create a list\n",
    "u = [1, 2, 3, 4, 5, 6, 6, 7, 7, 7, 8, 9]\n",
    "v = set(u) # convert to set\n",
    "print(v) # print set and see no duplicate elements exists\n",
    "print(type(v)) # print data type\n",
    "print('\\n')\n",
    "\n",
    "# add an element to the set\n",
    "v.add(10) # a new element is added\n",
    "print(v)\n",
    "\n",
    "v.add(1) # duplicate element is NOT added\n",
    "print(v)\n",
    "print('\\n')\n",
    "\n",
    "# remove elements from sets\n",
    "v.remove(2) # removes one element, cannot take 2 elements as argument. Removes the element and not the element at index 2.\n",
    "# remove method will give an error if the element to remove does not exist in the set\n",
    "print(v)"
   ]
  },
  {
   "cell_type": "markdown",
   "metadata": {},
   "source": [
    "---\n",
    "#### Tuples\n",
    "- are ordered and immutable collection elements\n",
    "    - defined using _( 1, 2 )_\n",
    "- tuples allows duplicate values\n",
    "---"
   ]
  },
  {
   "cell_type": "code",
   "execution_count": 125,
   "metadata": {},
   "outputs": [
    {
     "name": "stdout",
     "output_type": "stream",
     "text": [
      "('a', 'b', 'b', 'c', 4, 5, 6)\n",
      "<class 'tuple'>\n",
      "6\n"
     ]
    }
   ],
   "source": [
    "w = ('a', 'b', 'b', 'c', 4, 5, 6) # define tuple\n",
    "print(w)\n",
    "print(type(w))\n",
    "\n",
    "# tupples can be sliced and indexed\n",
    "print(w[-1])\n",
    "\n",
    "# tuples cannot be modified\n",
    "# w[1] = 2 # this will output an error"
   ]
  },
  {
   "cell_type": "markdown",
   "metadata": {},
   "source": [
    "---\n",
    "| Data Structure | Ordered | Mutable | Constructor | Example |\n",
    "|---|---|---|---|---------|\n",
    "| List | Yes | Yes | [ ] or list() | [1, 'two', 3, 3, 4.0] |\n",
    "| Tuple | Yes | No |  ( ) or tuple() | (1, 'two', 3, 3, 4.0) |\n",
    "| Set | No | Yes |  { } or set() | {1, 'two', 3, 4.0} |\n",
    "| Dictionary | No | Yes |  { : } or dict() | {'key 1' : 1, 'key 2' : 'two'} |\n",
    "\n",
    "#### Loops\n",
    "- if, elif, else --> conditional statements\n",
    "    - instructs the computer to perform actions based on certain conditions or sets of rules\n",
    "    - in simple language, if this... then do this...\n",
    "    - ![if_else_image](./Screenshot%202024-07-14%20152658.png)\n",
    "- for, while --> loops\n",
    "    - act as an iterator in python\n",
    "    - FOR LOOP\n",
    "        - iterates over sequence of items (can be strings, lists, tuples, etc.)\n",
    "        - ![for_loop_image](./Screenshot%202024-07-14%20171111.png)\n",
    "    - WHILE LOOP\n",
    "        - loop continues until WHILE statement/condition is TRUE\n",
    "        - ![while_loop_image](./Screenshot%202024-07-14%20180108.png)\n",
    "---"
   ]
  },
  {
   "cell_type": "code",
   "execution_count": 126,
   "metadata": {},
   "outputs": [
    {
     "name": "stdout",
     "output_type": "stream",
     "text": [
      "x looses to y\n"
     ]
    }
   ],
   "source": [
    "# conditional statements\n",
    "# SYNTAX\n",
    "#####\n",
    "# if case 1:\n",
    "#     perform action 1\n",
    "# elif case 2:\n",
    "#     perform action 2\n",
    "# else:\n",
    "#     perform action 3\n",
    "#####\n",
    "\n",
    "# indendation is important in case of if statements and loops as indendation defines what piece of code should run based on if/elif/else conditions\n",
    "\n",
    "x = 69\n",
    "y = 96\n",
    "\n",
    "if x > y:\n",
    "    print(\"x is greater than y\") # indendation is IMPORTANT\n",
    "else:\n",
    "    print(\"x looses to y\") # indendation is IMPORTANT"
   ]
  },
  {
   "cell_type": "code",
   "execution_count": 127,
   "metadata": {},
   "outputs": [
    {
     "name": "stdout",
     "output_type": "stream",
     "text": [
      "x wins against z\n"
     ]
    }
   ],
   "source": [
    "z = 6.9\n",
    "# elif statement\n",
    "if x > y:\n",
    "    print(\"x greater than y\") # indendation is IMPORTANT\n",
    "elif x > z:\n",
    "    print(\"x wins against z\") # indendation is IMPORTANT\n",
    "else:\n",
    "    print(\"x is overall looser\") # indendation is IMPORTANT"
   ]
  },
  {
   "cell_type": "code",
   "execution_count": 128,
   "metadata": {},
   "outputs": [
    {
     "name": "stdout",
     "output_type": "stream",
     "text": [
      "Hello 0\n",
      "Hello 1\n",
      "Hello 2\n",
      "Hello 3\n",
      "Hello 4\n"
     ]
    }
   ],
   "source": [
    "# loops\n",
    "\n",
    "# SYNTAX - FOR LOOP\n",
    "#####\n",
    "# for item in object:\n",
    "#     statements to do stuff <body of the loop>\n",
    "#####\n",
    "# again indentation is important, just like if/elif/else statements\n",
    "\n",
    "# example loop\n",
    "for i in range (5): # iterable \"i\" will iterate over all elements in range(5) (elements are: 0, 1, 2, 3, 4)\n",
    "    print(f\"Hello {i}\")"
   ]
  },
  {
   "cell_type": "code",
   "execution_count": 129,
   "metadata": {},
   "outputs": [
    {
     "name": "stdout",
     "output_type": "stream",
     "text": [
      "This is element 1 in the list\n",
      "This is element 2 in the list\n",
      "This is element 3 in the list\n",
      "This is element 4 in the list\n",
      "This is element 5 in the list\n",
      "This is element 6 in the list\n",
      "This is element 7 in the list\n"
     ]
    }
   ],
   "source": [
    "# another example loop\n",
    "aa = [1, 2, 3, 4, 5, 6, 7]\n",
    "for i in aa: # iterate over all elements of the list\n",
    "    print(f\"This is element {i} in the list\")"
   ]
  },
  {
   "cell_type": "code",
   "execution_count": 130,
   "metadata": {},
   "outputs": [
    {
     "name": "stdout",
     "output_type": "stream",
     "text": [
      "1 is odd\n",
      "2 is even\n",
      "3 is odd\n",
      "4 is even\n",
      "5 is odd\n",
      "6 is even\n",
      "7 is odd\n"
     ]
    }
   ],
   "source": [
    "# another loop to check if the numbers are even or not\n",
    "for i in aa:\n",
    "    if i % 2 ==0:\n",
    "        print(f\"{i} is even\")\n",
    "    else:\n",
    "        print(f\"{i} is odd\")"
   ]
  },
  {
   "cell_type": "code",
   "execution_count": 131,
   "metadata": {},
   "outputs": [
    {
     "name": "stdout",
     "output_type": "stream",
     "text": [
      "'ab' is 0, which is less than 5, add 1 please\n",
      "'ab' is 1, which is less than 5, add 1 please\n",
      "'ab' is 2, which is less than 5, add 1 please\n",
      "'ab' is 3, which is less than 5, add 1 please\n",
      "'ab' is 4, which is less than 5, add 1 please\n"
     ]
    }
   ],
   "source": [
    "# WHILE LOOP\n",
    "ab = 0\n",
    "\n",
    "while ab < 5:\n",
    "    print(f\"'ab' is {ab}, which is less than 5, add 1 please\")\n",
    "    ab += 1\n",
    "\n",
    "# it is a common error in WHILE loops to not have a break condition and the lopp continues forever\n",
    "# BE CAREFUL!!"
   ]
  }
 ],
 "metadata": {
  "kernelspec": {
   "display_name": "Python 3",
   "language": "python",
   "name": "python3"
  },
  "language_info": {
   "codemirror_mode": {
    "name": "ipython",
    "version": 3
   },
   "file_extension": ".py",
   "mimetype": "text/x-python",
   "name": "python",
   "nbconvert_exporter": "python",
   "pygments_lexer": "ipython3",
   "version": "3.11.9"
  }
 },
 "nbformat": 4,
 "nbformat_minor": 2
}
